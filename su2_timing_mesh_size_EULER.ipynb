{
 "cells": [
  {
   "cell_type": "markdown",
   "id": "d378bf52",
   "metadata": {},
   "source": [
    "# Time SU2 runs depending on mesh size\n",
    "In this example we do the following:\n",
    "1. Get coordinates of a geometry.\n",
    "1. Repeat for several mesh sizes.\n",
    "   1. Mesh it using Gmsh and save it in the SU2 mesh format.\n",
    "   1. Then use a SU2 configuration file and compute CL and CD for the airfoil."
   ]
  },
  {
   "cell_type": "markdown",
   "id": "507be5cb",
   "metadata": {},
   "source": [
    "## Some Basic Imports"
   ]
  },
  {
   "cell_type": "code",
   "execution_count": 1,
   "id": "c7bcd59b",
   "metadata": {},
   "outputs": [],
   "source": [
    "import time\n",
    "import subprocess\n",
    "import os\n",
    "import csv\n",
    "\n",
    "import numpy as np\n",
    "import matplotlib.pyplot as plt\n",
    "\n",
    "from mesh_func import mesh_func"
   ]
  },
  {
   "cell_type": "markdown",
   "id": "ad10cbc1",
   "metadata": {},
   "source": [
    "## Get Geometry - Mesh it\n",
    "We do the following:\n",
    "1. Start with a 2D geometry defined by an ordered set of points on the curve. Assume it is a simple\n",
    "    curve.\n",
    "1. Use Gmsh to mesh the geometry. Define appropriate physical groups.\n",
    "1. Export to SU2 format as that is what SU2 can work with."
   ]
  },
  {
   "cell_type": "code",
   "execution_count": 2,
   "id": "de54af7c",
   "metadata": {},
   "outputs": [
    {
     "data": {
      "image/png": "[encoded data removed]",
      "text/plain": [
       "<Figure size 640x480 with 1 Axes>"
      ]
     },
     "metadata": {},
     "output_type": "display_data"
    }
   ],
   "source": [
    "# Sample points on the curve that you want to mesh\n",
    "X = np.loadtxt('naca2410.dat')\n",
    "\n",
    "plt.plot(X[:, 0], X[:, 1])\n",
    "plt.axis('equal')\n",
    "plt.show()"
   ]
  },
  {
   "cell_type": "markdown",
   "id": "4aa6f9e6",
   "metadata": {},
   "source": [
    "## Run SU2 for Different Mesh Sizes"
   ]
  },
  {
   "cell_type": "code",
   "execution_count": 3,
   "id": "9e9146f0",
   "metadata": {},
   "outputs": [],
   "source": [
    "mesh_size_list = [(0.5, 10.0), (0.5, 5.0), (0.1, 5.0), (0.01, 5.0), (0.01, 2.5), (0.005, 2.5),\n",
    "                  (0.005, 2.0), (0.005, 1.0), (0.001, 1.0)]"
   ]
  },
  {
   "cell_type": "code",
   "execution_count": 4,
   "id": "2e51afaa",
   "metadata": {},
   "outputs": [
    {
     "name": "stdout",
     "output_type": "stream",
     "text": [
      "Num Elements:    5022, Time:   6.371407, CL: 0.223444, CD: 0.003188, Iter:  501\n",
      "Num Elements:   15728, Time:  22.286196, CL: 0.201139, CD: -0.002471, Iter:  447\n",
      "Num Elements:   15728, Time:  22.477652, CL: 0.201139, CD: -0.002471, Iter:  447\n",
      "Num Elements:   18082, Time:  30.396392, CL: 0.183497, CD: 0.000064, Iter:  510\n",
      "Num Elements:   54290, Time: 145.481451, CL: 0.249176, CD: -0.002233, Iter:  617\n",
      "Num Elements:   59160, Time: 147.510091, CL: 0.302505, CD: -0.002810, Iter:  739\n",
      "Num Elements:   85862, Time: 260.004140, CL: 0.245746, CD: -0.001180, Iter:  663\n",
      "Num Elements:  301402, Time: 1169.207379, CL: 0.209826, CD: -0.002518, Iter:  769\n",
      "Num Elements:  417050, Time: 3351.727946, CL: 0.266783, CD: -0.000346, Iter: 1525\n"
     ]
    }
   ],
   "source": [
    "for i in range(len(mesh_size_list)):\n",
    "    start_time = time.time()\n",
    "\n",
    "\n",
    "    # Set mesh parameters\n",
    "    mesh_size_at_airfoil = mesh_size_list[i][0]\n",
    "    mesh_size_at_farfield = mesh_size_list[i][1]\n",
    "    farfield_factor = 100\n",
    "    mesh_file_location = 'airfoil_mesh.su2'\n",
    "\n",
    "    mesh_details, physical_groups = mesh_func(X,\n",
    "                        mesh_size_at_airfoil = mesh_size_at_airfoil,\n",
    "                        mesh_size_at_farfield = mesh_size_at_farfield,\n",
    "                        farfield_factor = farfield_factor,\n",
    "                        model_name = 'airfoil',\n",
    "                        mesh_file_location = mesh_file_location,\n",
    "                        visualize = False\n",
    "                        )\n",
    "    num_nodes = mesh_details['num_nodes']\n",
    "    num_elements = mesh_details['num_elements']\n",
    "\n",
    "\n",
    "    # Run SU2\n",
    "    cfg_file_path = 'su2_EULER.cfg'\n",
    "    with open(os.devnull, 'w') as devnull:\n",
    "        subprocess.run(['SU2_CFD', cfg_file_path], check = True, stdout = devnull,\n",
    "                       stderr = subprocess.STDOUT)\n",
    "\n",
    "    end_time = time.time()\n",
    "    total_time = end_time - start_time\n",
    "\n",
    "\n",
    "    # Read last line from history.csv\n",
    "    output_data_file_path = 'history.csv'\n",
    "    with open(output_data_file_path, 'r') as f:\n",
    "        rows = list(csv.DictReader(f))\n",
    "        last_row = rows[-1]\n",
    "\n",
    "        output_dict = {}\n",
    "        for key, values in last_row.items():\n",
    "            if key == 'Inner_Iter':\n",
    "                output_dict[key] = float(values.strip())\n",
    "                continue\n",
    "            output_dict[key.strip()[1:-1]] = float(values.strip())\n",
    "        \n",
    "        CL = output_dict['CL']\n",
    "        CD = output_dict['CD']\n",
    "        iter = int(output_dict['Inner_Iter'])\n",
    "    \n",
    "\n",
    "    print(f'Num Elements: {num_elements:{7}}, Time: {total_time:10.6f}, CL: {CL:8.6f}, CD: {CD:8.6f}, Iter: {iter:{4}}')\n",
    "\n",
    "\n",
    "    # Delete files created by SU2\n",
    "    os.remove('history.csv')\n",
    "    os.remove('flow.vtu')\n",
    "    os.remove('surface_flow.csv')\n",
    "    os.remove('restart_flow.dat')"
   ]
  }
 ],
 "metadata": {
  "kernelspec": {
   "display_name": "3.12.10",
   "language": "python",
   "name": "python3"
  },
  "language_info": {
   "codemirror_mode": {
    "name": "ipython",
    "version": 3
   },
   "file_extension": ".py",
   "mimetype": "text/x-python",
   "name": "python",
   "nbconvert_exporter": "python",
   "pygments_lexer": "ipython3",
   "version": "3.12.10"
  }
 },
 "nbformat": 4,
 "nbformat_minor": 5
}
